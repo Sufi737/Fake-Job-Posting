{
 "cells": [
  {
   "cell_type": "code",
   "execution_count": 1,
   "metadata": {},
   "outputs": [
    {
     "name": "stderr",
     "output_type": "stream",
     "text": [
      "Using TensorFlow backend.\n"
     ]
    }
   ],
   "source": [
    "import pandas as pd\n",
    "from sklearn.feature_extraction.text import TfidfVectorizer\n",
    "import nltk\n",
    "from nltk.corpus import stopwords\n",
    "import re\n",
    "from scipy.sparse import coo_matrix, hstack\n",
    "from sklearn.model_selection import train_test_split\n",
    "from sklearn.linear_model import LogisticRegression\n",
    "import warnings\n",
    "warnings.filterwarnings('ignore')\n",
    "from sklearn.metrics import accuracy_score\n",
    "from sklearn.metrics import confusion_matrix\n",
    "from imblearn.over_sampling import ADASYN, SMOTE, RandomOverSampler\n",
    "from sklearn.metrics import roc_curve\n",
    "from sklearn.metrics import auc\n",
    "from sklearn.metrics import roc_auc_score\n",
    "import matplotlib.pyplot as plt\n",
    "from sklearn.ensemble import RandomForestClassifier\n",
    "from xgboost import XGBClassifier\n",
    "from sklearn.model_selection import StratifiedKFold\n",
    "from sklearn.model_selection import RandomizedSearchCV, GridSearchCV\n",
    "from string import punctuation"
   ]
  },
  {
   "cell_type": "code",
   "execution_count": 2,
   "metadata": {},
   "outputs": [
    {
     "data": {
      "text/html": [
       "<div>\n",
       "<style scoped>\n",
       "    .dataframe tbody tr th:only-of-type {\n",
       "        vertical-align: middle;\n",
       "    }\n",
       "\n",
       "    .dataframe tbody tr th {\n",
       "        vertical-align: top;\n",
       "    }\n",
       "\n",
       "    .dataframe thead th {\n",
       "        text-align: right;\n",
       "    }\n",
       "</style>\n",
       "<table border=\"1\" class=\"dataframe\">\n",
       "  <thead>\n",
       "    <tr style=\"text-align: right;\">\n",
       "      <th></th>\n",
       "      <th>job_id</th>\n",
       "      <th>title</th>\n",
       "      <th>department</th>\n",
       "      <th>salary_range</th>\n",
       "      <th>company_profile</th>\n",
       "      <th>description</th>\n",
       "      <th>requirements</th>\n",
       "      <th>benefits</th>\n",
       "      <th>telecommuting</th>\n",
       "      <th>has_company_logo</th>\n",
       "      <th>...</th>\n",
       "      <th>required_education</th>\n",
       "      <th>industry</th>\n",
       "      <th>function</th>\n",
       "      <th>fraudulent</th>\n",
       "      <th>country_code</th>\n",
       "      <th>city_name</th>\n",
       "      <th>company_profile_tokenized</th>\n",
       "      <th>description_tokenized</th>\n",
       "      <th>requirements_tokenized</th>\n",
       "      <th>benefits_tokenized</th>\n",
       "    </tr>\n",
       "  </thead>\n",
       "  <tbody>\n",
       "    <tr>\n",
       "      <th>0</th>\n",
       "      <td>1</td>\n",
       "      <td>Marketing Intern</td>\n",
       "      <td>Marketing</td>\n",
       "      <td>unknown</td>\n",
       "      <td>We re Food52  and we ve created a groundbreaki...</td>\n",
       "      <td>Food52  a fast growing  James Beard Award winn...</td>\n",
       "      <td>Experience with content management systems a m...</td>\n",
       "      <td>unknown</td>\n",
       "      <td>0</td>\n",
       "      <td>1</td>\n",
       "      <td>...</td>\n",
       "      <td>unknown</td>\n",
       "      <td>unknown</td>\n",
       "      <td>Marketing</td>\n",
       "      <td>0</td>\n",
       "      <td>US</td>\n",
       "      <td>New York</td>\n",
       "      <td>['We', 'Food52', 'created', 'groundbreaking', ...</td>\n",
       "      <td>['Food52', 'fast', 'growing', 'James', 'Beard'...</td>\n",
       "      <td>['Experience', 'content', 'management', 'syste...</td>\n",
       "      <td>[]</td>\n",
       "    </tr>\n",
       "    <tr>\n",
       "      <th>1</th>\n",
       "      <td>2</td>\n",
       "      <td>Customer Service - Cloud Video Production</td>\n",
       "      <td>Success</td>\n",
       "      <td>unknown</td>\n",
       "      <td>90 Seconds  the worlds Cloud Video Production ...</td>\n",
       "      <td>Organised   Focused   Vibrant   Awesome Do you...</td>\n",
       "      <td>What we expect from you Your key responsibilit...</td>\n",
       "      <td>What you will get from usThrough being part of...</td>\n",
       "      <td>0</td>\n",
       "      <td>1</td>\n",
       "      <td>...</td>\n",
       "      <td>unknown</td>\n",
       "      <td>Marketing and Advertising</td>\n",
       "      <td>Customer Service</td>\n",
       "      <td>0</td>\n",
       "      <td>NZ</td>\n",
       "      <td>Auckland</td>\n",
       "      <td>['90', 'Seconds', 'worlds', 'Cloud', 'Video', ...</td>\n",
       "      <td>['Organised', 'Focused', 'Vibrant', 'Awesome',...</td>\n",
       "      <td>['What', 'expect', 'Your', 'key', 'responsibil...</td>\n",
       "      <td>['What', 'get', 'usThrough', 'part', '90', 'Se...</td>\n",
       "    </tr>\n",
       "    <tr>\n",
       "      <th>2</th>\n",
       "      <td>3</td>\n",
       "      <td>Commissioning Machinery Assistant (CMA)</td>\n",
       "      <td>unknown</td>\n",
       "      <td>unknown</td>\n",
       "      <td>Valor Services provides Workforce Solutions th...</td>\n",
       "      <td>Our client  located in Houston  is actively se...</td>\n",
       "      <td>Implement pre commissioning and commissioning ...</td>\n",
       "      <td>unknown</td>\n",
       "      <td>0</td>\n",
       "      <td>1</td>\n",
       "      <td>...</td>\n",
       "      <td>unknown</td>\n",
       "      <td>unknown</td>\n",
       "      <td>unknown</td>\n",
       "      <td>0</td>\n",
       "      <td>US</td>\n",
       "      <td>Wever</td>\n",
       "      <td>['Valor', 'Services', 'provides', 'Workforce',...</td>\n",
       "      <td>['Our', 'client', 'located', 'Houston', 'activ...</td>\n",
       "      <td>['Implement', 'pre', 'commissioning', 'commiss...</td>\n",
       "      <td>[]</td>\n",
       "    </tr>\n",
       "    <tr>\n",
       "      <th>3</th>\n",
       "      <td>4</td>\n",
       "      <td>Account Executive - Washington DC</td>\n",
       "      <td>Sales</td>\n",
       "      <td>unknown</td>\n",
       "      <td>Our passion for improving quality of life thro...</td>\n",
       "      <td>THE COMPANY  ESRI   Environmental Systems Rese...</td>\n",
       "      <td>EDUCATION  Bachelor s or Master s in GIS  busi...</td>\n",
       "      <td>Our culture is anything but corporate we have ...</td>\n",
       "      <td>0</td>\n",
       "      <td>1</td>\n",
       "      <td>...</td>\n",
       "      <td>Bachelor's Degree</td>\n",
       "      <td>Computer Software</td>\n",
       "      <td>Sales</td>\n",
       "      <td>0</td>\n",
       "      <td>US</td>\n",
       "      <td>Washington</td>\n",
       "      <td>['Our', 'passion', 'improving', 'quality', 'li...</td>\n",
       "      <td>['THE', 'COMPANY', 'ESRI', 'Environmental', 'S...</td>\n",
       "      <td>['EDUCATION', 'Bachelor', 'Master', 'GIS', 'bu...</td>\n",
       "      <td>['Our', 'culture', 'anything', 'corporate', 'c...</td>\n",
       "    </tr>\n",
       "    <tr>\n",
       "      <th>4</th>\n",
       "      <td>5</td>\n",
       "      <td>Bill Review Manager</td>\n",
       "      <td>unknown</td>\n",
       "      <td>unknown</td>\n",
       "      <td>SpotSource Solutions LLC is a Global Human Cap...</td>\n",
       "      <td>JOB TITLE  Itemization Review ManagerLOCATION ...</td>\n",
       "      <td>QUALIFICATIONS RN license in the State of Texa...</td>\n",
       "      <td>Full Benefits Offered</td>\n",
       "      <td>0</td>\n",
       "      <td>1</td>\n",
       "      <td>...</td>\n",
       "      <td>Bachelor's Degree</td>\n",
       "      <td>Hospital &amp; Health Care</td>\n",
       "      <td>Health Care Provider</td>\n",
       "      <td>0</td>\n",
       "      <td>US</td>\n",
       "      <td>Fort Worth</td>\n",
       "      <td>['SpotSource', 'Solutions', 'LLC', 'Global', '...</td>\n",
       "      <td>['JOB', 'TITLE', 'Itemization', 'Review', 'Man...</td>\n",
       "      <td>['QUALIFICATIONS', 'RN', 'license', 'State', '...</td>\n",
       "      <td>['Full', 'Benefits', 'Offered']</td>\n",
       "    </tr>\n",
       "  </tbody>\n",
       "</table>\n",
       "<p>5 rows × 23 columns</p>\n",
       "</div>"
      ],
      "text/plain": [
       "   job_id                                      title department salary_range  \\\n",
       "0       1                           Marketing Intern  Marketing      unknown   \n",
       "1       2  Customer Service - Cloud Video Production    Success      unknown   \n",
       "2       3    Commissioning Machinery Assistant (CMA)    unknown      unknown   \n",
       "3       4          Account Executive - Washington DC      Sales      unknown   \n",
       "4       5                        Bill Review Manager    unknown      unknown   \n",
       "\n",
       "                                     company_profile  \\\n",
       "0  We re Food52  and we ve created a groundbreaki...   \n",
       "1  90 Seconds  the worlds Cloud Video Production ...   \n",
       "2  Valor Services provides Workforce Solutions th...   \n",
       "3  Our passion for improving quality of life thro...   \n",
       "4  SpotSource Solutions LLC is a Global Human Cap...   \n",
       "\n",
       "                                         description  \\\n",
       "0  Food52  a fast growing  James Beard Award winn...   \n",
       "1  Organised   Focused   Vibrant   Awesome Do you...   \n",
       "2  Our client  located in Houston  is actively se...   \n",
       "3  THE COMPANY  ESRI   Environmental Systems Rese...   \n",
       "4  JOB TITLE  Itemization Review ManagerLOCATION ...   \n",
       "\n",
       "                                        requirements  \\\n",
       "0  Experience with content management systems a m...   \n",
       "1  What we expect from you Your key responsibilit...   \n",
       "2  Implement pre commissioning and commissioning ...   \n",
       "3  EDUCATION  Bachelor s or Master s in GIS  busi...   \n",
       "4  QUALIFICATIONS RN license in the State of Texa...   \n",
       "\n",
       "                                            benefits  telecommuting  \\\n",
       "0                                            unknown              0   \n",
       "1  What you will get from usThrough being part of...              0   \n",
       "2                                            unknown              0   \n",
       "3  Our culture is anything but corporate we have ...              0   \n",
       "4                              Full Benefits Offered              0   \n",
       "\n",
       "   has_company_logo  ...  required_education                   industry  \\\n",
       "0                 1  ...             unknown                    unknown   \n",
       "1                 1  ...             unknown  Marketing and Advertising   \n",
       "2                 1  ...             unknown                    unknown   \n",
       "3                 1  ...   Bachelor's Degree          Computer Software   \n",
       "4                 1  ...   Bachelor's Degree     Hospital & Health Care   \n",
       "\n",
       "               function fraudulent country_code    city_name  \\\n",
       "0             Marketing          0           US     New York   \n",
       "1      Customer Service          0           NZ     Auckland   \n",
       "2               unknown          0           US        Wever   \n",
       "3                 Sales          0           US   Washington   \n",
       "4  Health Care Provider          0           US   Fort Worth   \n",
       "\n",
       "                           company_profile_tokenized  \\\n",
       "0  ['We', 'Food52', 'created', 'groundbreaking', ...   \n",
       "1  ['90', 'Seconds', 'worlds', 'Cloud', 'Video', ...   \n",
       "2  ['Valor', 'Services', 'provides', 'Workforce',...   \n",
       "3  ['Our', 'passion', 'improving', 'quality', 'li...   \n",
       "4  ['SpotSource', 'Solutions', 'LLC', 'Global', '...   \n",
       "\n",
       "                               description_tokenized  \\\n",
       "0  ['Food52', 'fast', 'growing', 'James', 'Beard'...   \n",
       "1  ['Organised', 'Focused', 'Vibrant', 'Awesome',...   \n",
       "2  ['Our', 'client', 'located', 'Houston', 'activ...   \n",
       "3  ['THE', 'COMPANY', 'ESRI', 'Environmental', 'S...   \n",
       "4  ['JOB', 'TITLE', 'Itemization', 'Review', 'Man...   \n",
       "\n",
       "                              requirements_tokenized  \\\n",
       "0  ['Experience', 'content', 'management', 'syste...   \n",
       "1  ['What', 'expect', 'Your', 'key', 'responsibil...   \n",
       "2  ['Implement', 'pre', 'commissioning', 'commiss...   \n",
       "3  ['EDUCATION', 'Bachelor', 'Master', 'GIS', 'bu...   \n",
       "4  ['QUALIFICATIONS', 'RN', 'license', 'State', '...   \n",
       "\n",
       "                                  benefits_tokenized  \n",
       "0                                                 []  \n",
       "1  ['What', 'get', 'usThrough', 'part', '90', 'Se...  \n",
       "2                                                 []  \n",
       "3  ['Our', 'culture', 'anything', 'corporate', 'c...  \n",
       "4                    ['Full', 'Benefits', 'Offered']  \n",
       "\n",
       "[5 rows x 23 columns]"
      ]
     },
     "execution_count": 2,
     "metadata": {},
     "output_type": "execute_result"
    }
   ],
   "source": [
    "data = pd.read_csv('data/processed_data.csv')\n",
    "data.head()"
   ]
  },
  {
   "cell_type": "markdown",
   "metadata": {},
   "source": [
    "### For EDA, we replaced the null values with 'unknown'. We need to remove features which have large number of 'unknown' values as they will not help our model"
   ]
  },
  {
   "cell_type": "code",
   "execution_count": 3,
   "metadata": {},
   "outputs": [
    {
     "data": {
      "text/plain": [
       "Index(['job_id', 'title', 'department', 'salary_range', 'company_profile',\n",
       "       'description', 'requirements', 'benefits', 'telecommuting',\n",
       "       'has_company_logo', 'has_questions', 'employment_type',\n",
       "       'required_experience', 'required_education', 'industry', 'function',\n",
       "       'fraudulent', 'country_code', 'city_name', 'company_profile_tokenized',\n",
       "       'description_tokenized', 'requirements_tokenized',\n",
       "       'benefits_tokenized'],\n",
       "      dtype='object')"
      ]
     },
     "execution_count": 3,
     "metadata": {},
     "output_type": "execute_result"
    }
   ],
   "source": [
    "data.columns"
   ]
  },
  {
   "cell_type": "code",
   "execution_count": 4,
   "metadata": {},
   "outputs": [],
   "source": [
    "drop_cols = ['job_id', 'department', 'salary_range', 'company_profile_tokenized', 'description_tokenized',\n",
    "            'requirements_tokenized', 'benefits_tokenized']"
   ]
  },
  {
   "cell_type": "code",
   "execution_count": 5,
   "metadata": {},
   "outputs": [],
   "source": [
    "#dropping columns not required\n",
    "data.drop(drop_cols, axis=1, inplace=True)"
   ]
  },
  {
   "cell_type": "code",
   "execution_count": 6,
   "metadata": {},
   "outputs": [],
   "source": [
    "data['title'] = data['title'].replace({'unknown': 'title_unknown'})\n",
    "data['employment_type'] = data['employment_type'].replace({'unknown': 'employment_type_unknown'})\n",
    "data['required_experience'] = data['required_experience'].replace({'unknown': 'required_experience_unknown'})\n",
    "data['required_education'] = data['required_education'].replace({'unknown': 'required_education_unknown'})\n",
    "data['function'] = data['function'].replace({'unknown': 'function_unknown'})\n",
    "data['country_code'] = data['country_code'].replace({'unknown': 'country_code_unknown'})\n",
    "data['city_name'] = data['city_name'].replace({'unknown': 'city_name_unknown'})\n",
    "data['industry'] = data['industry'].replace({'unknown': 'industry_unknown'})"
   ]
  },
  {
   "cell_type": "code",
   "execution_count": 7,
   "metadata": {},
   "outputs": [
    {
     "data": {
      "text/html": [
       "<div>\n",
       "<style scoped>\n",
       "    .dataframe tbody tr th:only-of-type {\n",
       "        vertical-align: middle;\n",
       "    }\n",
       "\n",
       "    .dataframe tbody tr th {\n",
       "        vertical-align: top;\n",
       "    }\n",
       "\n",
       "    .dataframe thead th {\n",
       "        text-align: right;\n",
       "    }\n",
       "</style>\n",
       "<table border=\"1\" class=\"dataframe\">\n",
       "  <thead>\n",
       "    <tr style=\"text-align: right;\">\n",
       "      <th></th>\n",
       "      <th>title</th>\n",
       "      <th>company_profile</th>\n",
       "      <th>description</th>\n",
       "      <th>requirements</th>\n",
       "      <th>benefits</th>\n",
       "      <th>telecommuting</th>\n",
       "      <th>has_company_logo</th>\n",
       "      <th>has_questions</th>\n",
       "      <th>employment_type</th>\n",
       "      <th>required_experience</th>\n",
       "      <th>required_education</th>\n",
       "      <th>industry</th>\n",
       "      <th>function</th>\n",
       "      <th>fraudulent</th>\n",
       "      <th>country_code</th>\n",
       "      <th>city_name</th>\n",
       "    </tr>\n",
       "  </thead>\n",
       "  <tbody>\n",
       "    <tr>\n",
       "      <th>0</th>\n",
       "      <td>Marketing Intern</td>\n",
       "      <td>We re Food52  and we ve created a groundbreaki...</td>\n",
       "      <td>Food52  a fast growing  James Beard Award winn...</td>\n",
       "      <td>Experience with content management systems a m...</td>\n",
       "      <td>unknown</td>\n",
       "      <td>0</td>\n",
       "      <td>1</td>\n",
       "      <td>0</td>\n",
       "      <td>Other</td>\n",
       "      <td>Internship</td>\n",
       "      <td>required_education_unknown</td>\n",
       "      <td>industry_unknown</td>\n",
       "      <td>Marketing</td>\n",
       "      <td>0</td>\n",
       "      <td>US</td>\n",
       "      <td>New York</td>\n",
       "    </tr>\n",
       "    <tr>\n",
       "      <th>1</th>\n",
       "      <td>Customer Service - Cloud Video Production</td>\n",
       "      <td>90 Seconds  the worlds Cloud Video Production ...</td>\n",
       "      <td>Organised   Focused   Vibrant   Awesome Do you...</td>\n",
       "      <td>What we expect from you Your key responsibilit...</td>\n",
       "      <td>What you will get from usThrough being part of...</td>\n",
       "      <td>0</td>\n",
       "      <td>1</td>\n",
       "      <td>0</td>\n",
       "      <td>Full-time</td>\n",
       "      <td>Not Applicable</td>\n",
       "      <td>required_education_unknown</td>\n",
       "      <td>Marketing and Advertising</td>\n",
       "      <td>Customer Service</td>\n",
       "      <td>0</td>\n",
       "      <td>NZ</td>\n",
       "      <td>Auckland</td>\n",
       "    </tr>\n",
       "    <tr>\n",
       "      <th>2</th>\n",
       "      <td>Commissioning Machinery Assistant (CMA)</td>\n",
       "      <td>Valor Services provides Workforce Solutions th...</td>\n",
       "      <td>Our client  located in Houston  is actively se...</td>\n",
       "      <td>Implement pre commissioning and commissioning ...</td>\n",
       "      <td>unknown</td>\n",
       "      <td>0</td>\n",
       "      <td>1</td>\n",
       "      <td>0</td>\n",
       "      <td>employment_type_unknown</td>\n",
       "      <td>required_experience_unknown</td>\n",
       "      <td>required_education_unknown</td>\n",
       "      <td>industry_unknown</td>\n",
       "      <td>function_unknown</td>\n",
       "      <td>0</td>\n",
       "      <td>US</td>\n",
       "      <td>Wever</td>\n",
       "    </tr>\n",
       "    <tr>\n",
       "      <th>3</th>\n",
       "      <td>Account Executive - Washington DC</td>\n",
       "      <td>Our passion for improving quality of life thro...</td>\n",
       "      <td>THE COMPANY  ESRI   Environmental Systems Rese...</td>\n",
       "      <td>EDUCATION  Bachelor s or Master s in GIS  busi...</td>\n",
       "      <td>Our culture is anything but corporate we have ...</td>\n",
       "      <td>0</td>\n",
       "      <td>1</td>\n",
       "      <td>0</td>\n",
       "      <td>Full-time</td>\n",
       "      <td>Mid-Senior level</td>\n",
       "      <td>Bachelor's Degree</td>\n",
       "      <td>Computer Software</td>\n",
       "      <td>Sales</td>\n",
       "      <td>0</td>\n",
       "      <td>US</td>\n",
       "      <td>Washington</td>\n",
       "    </tr>\n",
       "    <tr>\n",
       "      <th>4</th>\n",
       "      <td>Bill Review Manager</td>\n",
       "      <td>SpotSource Solutions LLC is a Global Human Cap...</td>\n",
       "      <td>JOB TITLE  Itemization Review ManagerLOCATION ...</td>\n",
       "      <td>QUALIFICATIONS RN license in the State of Texa...</td>\n",
       "      <td>Full Benefits Offered</td>\n",
       "      <td>0</td>\n",
       "      <td>1</td>\n",
       "      <td>1</td>\n",
       "      <td>Full-time</td>\n",
       "      <td>Mid-Senior level</td>\n",
       "      <td>Bachelor's Degree</td>\n",
       "      <td>Hospital &amp; Health Care</td>\n",
       "      <td>Health Care Provider</td>\n",
       "      <td>0</td>\n",
       "      <td>US</td>\n",
       "      <td>Fort Worth</td>\n",
       "    </tr>\n",
       "  </tbody>\n",
       "</table>\n",
       "</div>"
      ],
      "text/plain": [
       "                                       title  \\\n",
       "0                           Marketing Intern   \n",
       "1  Customer Service - Cloud Video Production   \n",
       "2    Commissioning Machinery Assistant (CMA)   \n",
       "3          Account Executive - Washington DC   \n",
       "4                        Bill Review Manager   \n",
       "\n",
       "                                     company_profile  \\\n",
       "0  We re Food52  and we ve created a groundbreaki...   \n",
       "1  90 Seconds  the worlds Cloud Video Production ...   \n",
       "2  Valor Services provides Workforce Solutions th...   \n",
       "3  Our passion for improving quality of life thro...   \n",
       "4  SpotSource Solutions LLC is a Global Human Cap...   \n",
       "\n",
       "                                         description  \\\n",
       "0  Food52  a fast growing  James Beard Award winn...   \n",
       "1  Organised   Focused   Vibrant   Awesome Do you...   \n",
       "2  Our client  located in Houston  is actively se...   \n",
       "3  THE COMPANY  ESRI   Environmental Systems Rese...   \n",
       "4  JOB TITLE  Itemization Review ManagerLOCATION ...   \n",
       "\n",
       "                                        requirements  \\\n",
       "0  Experience with content management systems a m...   \n",
       "1  What we expect from you Your key responsibilit...   \n",
       "2  Implement pre commissioning and commissioning ...   \n",
       "3  EDUCATION  Bachelor s or Master s in GIS  busi...   \n",
       "4  QUALIFICATIONS RN license in the State of Texa...   \n",
       "\n",
       "                                            benefits  telecommuting  \\\n",
       "0                                            unknown              0   \n",
       "1  What you will get from usThrough being part of...              0   \n",
       "2                                            unknown              0   \n",
       "3  Our culture is anything but corporate we have ...              0   \n",
       "4                              Full Benefits Offered              0   \n",
       "\n",
       "   has_company_logo  has_questions          employment_type  \\\n",
       "0                 1              0                    Other   \n",
       "1                 1              0                Full-time   \n",
       "2                 1              0  employment_type_unknown   \n",
       "3                 1              0                Full-time   \n",
       "4                 1              1                Full-time   \n",
       "\n",
       "           required_experience          required_education  \\\n",
       "0                   Internship  required_education_unknown   \n",
       "1               Not Applicable  required_education_unknown   \n",
       "2  required_experience_unknown  required_education_unknown   \n",
       "3             Mid-Senior level           Bachelor's Degree   \n",
       "4             Mid-Senior level           Bachelor's Degree   \n",
       "\n",
       "                    industry              function  fraudulent country_code  \\\n",
       "0           industry_unknown             Marketing           0           US   \n",
       "1  Marketing and Advertising      Customer Service           0           NZ   \n",
       "2           industry_unknown      function_unknown           0           US   \n",
       "3          Computer Software                 Sales           0           US   \n",
       "4     Hospital & Health Care  Health Care Provider           0           US   \n",
       "\n",
       "     city_name  \n",
       "0     New York  \n",
       "1     Auckland  \n",
       "2        Wever  \n",
       "3   Washington  \n",
       "4   Fort Worth  "
      ]
     },
     "execution_count": 7,
     "metadata": {},
     "output_type": "execute_result"
    }
   ],
   "source": [
    "data.head()"
   ]
  },
  {
   "cell_type": "code",
   "execution_count": 8,
   "metadata": {},
   "outputs": [],
   "source": [
    "#replacing 'unknown' in textual columns with blank space as we have to build vectors\n",
    "data['company_profile'] = data['company_profile'].replace({'unknown': ''})\n",
    "data['description'] = data['description'].replace({'unknown': ''})\n",
    "data['requirements'] = data['requirements'].replace({'unknown': ''})\n",
    "data['benefits'] = data['benefits'].replace({'unknown': ''})"
   ]
  },
  {
   "cell_type": "code",
   "execution_count": 9,
   "metadata": {},
   "outputs": [
    {
     "data": {
      "text/plain": [
       "Index(['title', 'company_profile', 'description', 'requirements', 'benefits',\n",
       "       'telecommuting', 'has_company_logo', 'has_questions', 'employment_type',\n",
       "       'required_experience', 'required_education', 'industry', 'function',\n",
       "       'fraudulent', 'country_code', 'city_name'],\n",
       "      dtype='object')"
      ]
     },
     "execution_count": 9,
     "metadata": {},
     "output_type": "execute_result"
    }
   ],
   "source": [
    "data.columns"
   ]
  },
  {
   "cell_type": "code",
   "execution_count": 10,
   "metadata": {},
   "outputs": [],
   "source": [
    "categorical_cols = ['title', 'employment_type', 'required_experience', 'required_education', \n",
    "                    'industry', 'function', 'country_code', 'city_name']"
   ]
  },
  {
   "cell_type": "code",
   "execution_count": 11,
   "metadata": {},
   "outputs": [],
   "source": [
    "encoded_data = pd.DataFrame()\n",
    "for col in categorical_cols:\n",
    "    col_dummies = pd.get_dummies(data[col])\n",
    "    encoded_data = pd.concat([encoded_data, col_dummies], axis=1)\n",
    "    data.drop(col, axis=1, inplace=True)"
   ]
  },
  {
   "cell_type": "code",
   "execution_count": 44,
   "metadata": {},
   "outputs": [],
   "source": [
    "encoded_data['has_company_logo'] = data['has_company_logo']\n",
    "encoded_data['telecommuting'] = data['telecommuting']\n",
    "encoded_data['has_questions'] = data['has_questions']"
   ]
  },
  {
   "cell_type": "code",
   "execution_count": 45,
   "metadata": {},
   "outputs": [
    {
     "data": {
      "text/plain": [
       "(17880, 13857)"
      ]
     },
     "execution_count": 45,
     "metadata": {},
     "output_type": "execute_result"
    }
   ],
   "source": [
    "encoded_data.shape"
   ]
  },
  {
   "cell_type": "code",
   "execution_count": 14,
   "metadata": {},
   "outputs": [],
   "source": [
    "tfidf_vectorizer_profile = TfidfVectorizer()\n",
    "tfidf_vectorizer_benefits = TfidfVectorizer()\n",
    "tfidf_vectorizer_description = TfidfVectorizer()\n",
    "tfidf_vectorizer_requirements = TfidfVectorizer()"
   ]
  },
  {
   "cell_type": "code",
   "execution_count": 15,
   "metadata": {},
   "outputs": [],
   "source": [
    "company_profile_vector = tfidf_vectorizer_profile.fit_transform(data['company_profile'])\n",
    "benefits_vector = tfidf_vectorizer_benefits.fit_transform(data['benefits'])\n",
    "description_vector = tfidf_vectorizer_description.fit_transform(data['description'])\n",
    "requirements_vector = tfidf_vectorizer_requirements.fit_transform(data['requirements'])"
   ]
  },
  {
   "cell_type": "code",
   "execution_count": 46,
   "metadata": {},
   "outputs": [],
   "source": [
    "vector_combined = hstack([company_profile_vector,benefits_vector, description_vector, requirements_vector, encoded_data])"
   ]
  },
  {
   "cell_type": "code",
   "execution_count": 47,
   "metadata": {},
   "outputs": [
    {
     "data": {
      "text/plain": [
       "<17880x153931 sparse matrix of type '<class 'numpy.float64'>'\n",
       "\twith 4707940 stored elements in COOrdinate format>"
      ]
     },
     "execution_count": 47,
     "metadata": {},
     "output_type": "execute_result"
    }
   ],
   "source": [
    "vector_combined"
   ]
  },
  {
   "cell_type": "code",
   "execution_count": 48,
   "metadata": {},
   "outputs": [],
   "source": [
    "X_train, X_test, y_train, y_test = train_test_split(vector_combined, data['fraudulent'], test_size=0.30, random_state=42)"
   ]
  },
  {
   "cell_type": "code",
   "execution_count": 49,
   "metadata": {},
   "outputs": [
    {
     "data": {
      "text/plain": [
       "(12516, 153931)"
      ]
     },
     "execution_count": 49,
     "metadata": {},
     "output_type": "execute_result"
    }
   ],
   "source": [
    "X_train.shape"
   ]
  },
  {
   "cell_type": "code",
   "execution_count": 50,
   "metadata": {},
   "outputs": [
    {
     "data": {
      "text/plain": [
       "(5364, 153931)"
      ]
     },
     "execution_count": 50,
     "metadata": {},
     "output_type": "execute_result"
    }
   ],
   "source": [
    "X_test.shape"
   ]
  },
  {
   "cell_type": "code",
   "execution_count": 52,
   "metadata": {},
   "outputs": [
    {
     "data": {
      "text/plain": [
       "LogisticRegression(C=1.0, class_weight=None, dual=False, fit_intercept=True,\n",
       "                   intercept_scaling=1, l1_ratio=None, max_iter=100,\n",
       "                   multi_class='auto', n_jobs=None, penalty='l2',\n",
       "                   random_state=None, solver='lbfgs', tol=0.0001, verbose=0,\n",
       "                   warm_start=False)"
      ]
     },
     "execution_count": 52,
     "metadata": {},
     "output_type": "execute_result"
    }
   ],
   "source": [
    "lr_model = LogisticRegression()\n",
    "lr_model.fit(X_train, y_train)"
   ]
  },
  {
   "cell_type": "code",
   "execution_count": 53,
   "metadata": {},
   "outputs": [],
   "source": [
    "y_pred = lr_model.predict(X_test)"
   ]
  },
  {
   "cell_type": "code",
   "execution_count": 54,
   "metadata": {},
   "outputs": [
    {
     "data": {
      "text/plain": [
       "0.9809843400447428"
      ]
     },
     "execution_count": 54,
     "metadata": {},
     "output_type": "execute_result"
    }
   ],
   "source": [
    "accuracy_score(y_test, y_pred)"
   ]
  },
  {
   "cell_type": "markdown",
   "metadata": {},
   "source": [
    "### We are getting 98% accuracy using a basic logistic regression model. But accuracy is not a good metric here, as we need high accuracy in only classifying the fake job openings. This means that a real job posting identified as a fake one is ok, but a fake job posting should not be identified as a real one."
   ]
  },
  {
   "cell_type": "code",
   "execution_count": 55,
   "metadata": {},
   "outputs": [
    {
     "data": {
      "text/plain": [
       "0    5095\n",
       "1     269\n",
       "Name: fraudulent, dtype: int64"
      ]
     },
     "execution_count": 55,
     "metadata": {},
     "output_type": "execute_result"
    }
   ],
   "source": [
    "y_test.value_counts()"
   ]
  },
  {
   "cell_type": "markdown",
   "metadata": {},
   "source": [
    "### Scikit learn sorts labels in ascending order, thus 0's are first column/row and 1's are the second one"
   ]
  },
  {
   "cell_type": "code",
   "execution_count": 56,
   "metadata": {},
   "outputs": [
    {
     "data": {
      "text/plain": [
       "array([[5091,    4],\n",
       "       [  98,  171]], dtype=int64)"
      ]
     },
     "execution_count": 56,
     "metadata": {},
     "output_type": "execute_result"
    }
   ],
   "source": [
    "confusion_matrix(y_test, y_pred, labels=[0,1])"
   ]
  },
  {
   "cell_type": "markdown",
   "metadata": {},
   "source": [
    "### In our test data, there are 5095 real job postings and 269 fake job postings. This can be seen in our confusion matrix where the first row consists of real job openings and the second row the fake ones\n",
    "\n",
    "### Out of 5095 real job postings, 5091 were correctly predicted and 4 were predicted as fake (good)\n",
    "\n",
    "### Out of 269 fake job postings,  only 171 were correctly predicted (bad)"
   ]
  },
  {
   "cell_type": "code",
   "execution_count": 57,
   "metadata": {},
   "outputs": [],
   "source": [
    "def plot_roc_curve(model, X_test, y_test, method):\n",
    "    lr_probs = model.predict_proba(X_test)\n",
    "    lr_probs = lr_probs[:, 1]\n",
    "\n",
    "    ns_probs = [0 for _ in range(len(y_test))]\n",
    "\n",
    "    ns_auc = roc_auc_score(y_test, ns_probs)\n",
    "    lr_auc = roc_auc_score(y_test, lr_probs)\n",
    "    print('No Skill: ROC AUC=%.3f' % (ns_auc))\n",
    "    print(method+': ROC AUC=%.3f' % (lr_auc))\n",
    "\n",
    "    # calculate roc curves\n",
    "    ns_fpr, ns_tpr, _ = roc_curve(y_test, ns_probs)\n",
    "    lr_fpr, lr_tpr, _ = roc_curve(y_test, lr_probs)\n",
    "\n",
    "    plt.figure(figsize=(12,8))\n",
    "    # plot the roc curve for the model\n",
    "    plt.plot(ns_fpr, ns_tpr, linestyle='--', label='No Skill')\n",
    "    plt.plot(lr_fpr, lr_tpr, marker='.', label=method)\n",
    "\n",
    "    # axis labels\n",
    "    plt.xlabel('False Positive Rate')\n",
    "    plt.ylabel('True Positive Rate')\n",
    "    # show the legend\n",
    "    plt.legend()\n",
    "    # show the plot\n",
    "    plt.show()"
   ]
  },
  {
   "cell_type": "code",
   "execution_count": 58,
   "metadata": {},
   "outputs": [
    {
     "name": "stdout",
     "output_type": "stream",
     "text": [
      "No Skill: ROC AUC=0.500\n",
      "Logistic: ROC AUC=0.983\n"
     ]
    },
    {
     "data": {
      "image/png": "[encoded data removed]",
      "text/plain": [
       "<Figure size 864x576 with 1 Axes>"
      ]
     },
     "metadata": {
      "needs_background": "light"
     },
     "output_type": "display_data"
    }
   ],
   "source": [
    "plot_roc_curve(lr_model, X_test, y_test, 'Logistic')"
   ]
  },
  {
   "cell_type": "code",
   "execution_count": 59,
   "metadata": {},
   "outputs": [
    {
     "data": {
      "text/plain": [
       "0    17014\n",
       "1      866\n",
       "Name: fraudulent, dtype: int64"
      ]
     },
     "execution_count": 59,
     "metadata": {},
     "output_type": "execute_result"
    }
   ],
   "source": [
    "data['fraudulent'].value_counts()"
   ]
  },
  {
   "cell_type": "markdown",
   "metadata": {},
   "source": [
    "### We can see there is a class imbalance as there are only 866 fake job postings. We can upsample the fake job openings to check if it improves our model's recall"
   ]
  },
  {
   "cell_type": "code",
   "execution_count": 63,
   "metadata": {},
   "outputs": [],
   "source": [
    "ros = RandomOverSampler(random_state=777)\n",
    "X_ROS, y_ROS = ros.fit_sample(X_train, y_train)"
   ]
  },
  {
   "cell_type": "code",
   "execution_count": 64,
   "metadata": {},
   "outputs": [
    {
     "data": {
      "text/plain": [
       "(23838, 153931)"
      ]
     },
     "execution_count": 64,
     "metadata": {},
     "output_type": "execute_result"
    }
   ],
   "source": [
    "X_ROS.shape"
   ]
  },
  {
   "cell_type": "code",
   "execution_count": 65,
   "metadata": {},
   "outputs": [
    {
     "data": {
      "text/plain": [
       "(23838,)"
      ]
     },
     "execution_count": 65,
     "metadata": {},
     "output_type": "execute_result"
    }
   ],
   "source": [
    "y_ROS.shape"
   ]
  },
  {
   "cell_type": "code",
   "execution_count": 66,
   "metadata": {},
   "outputs": [
    {
     "data": {
      "text/plain": [
       "1    11919\n",
       "0    11919\n",
       "Name: fraudulent, dtype: int64"
      ]
     },
     "execution_count": 66,
     "metadata": {},
     "output_type": "execute_result"
    }
   ],
   "source": [
    "y_ROS.value_counts()"
   ]
  },
  {
   "cell_type": "code",
   "execution_count": 67,
   "metadata": {},
   "outputs": [
    {
     "data": {
      "text/plain": [
       "LogisticRegression(C=1.0, class_weight=None, dual=False, fit_intercept=True,\n",
       "                   intercept_scaling=1, l1_ratio=None, max_iter=100,\n",
       "                   multi_class='auto', n_jobs=None, penalty='l2',\n",
       "                   random_state=None, solver='lbfgs', tol=0.0001, verbose=0,\n",
       "                   warm_start=False)"
      ]
     },
     "execution_count": 67,
     "metadata": {},
     "output_type": "execute_result"
    }
   ],
   "source": [
    "lr_model = LogisticRegression()\n",
    "lr_model.fit(X_ROS, y_ROS)"
   ]
  },
  {
   "cell_type": "code",
   "execution_count": 68,
   "metadata": {},
   "outputs": [],
   "source": [
    "y_pred = lr_model.predict(X_test)"
   ]
  },
  {
   "cell_type": "code",
   "execution_count": 69,
   "metadata": {},
   "outputs": [
    {
     "data": {
      "text/plain": [
       "array([[5036,   59],\n",
       "       [  34,  235]], dtype=int64)"
      ]
     },
     "execution_count": 69,
     "metadata": {},
     "output_type": "execute_result"
    }
   ],
   "source": [
    "confusion_matrix(y_test, y_pred, labels=[0,1])"
   ]
  },
  {
   "cell_type": "code",
   "execution_count": 70,
   "metadata": {},
   "outputs": [
    {
     "name": "stdout",
     "output_type": "stream",
     "text": [
      "No Skill: ROC AUC=0.500\n",
      "Logistic: ROC AUC=0.985\n"
     ]
    },
    {
     "data": {
      "image/png": "[encoded data removed]",
      "text/plain": [
       "<Figure size 864x576 with 1 Axes>"
      ]
     },
     "metadata": {
      "needs_background": "light"
     },
     "output_type": "display_data"
    }
   ],
   "source": [
    "plot_roc_curve(lr_model, X_test, y_test, 'Logistic')"
   ]
  },
  {
   "cell_type": "markdown",
   "metadata": {},
   "source": [
    "### After using random oversampling of the minority class:\n",
    "\n",
    "### Out of the 5095 real job postings, 5036 are correctly predicted (as compared to 5091 earlier)\n",
    "\n",
    "### Out of 269 fake job postings, 235 are correctly predicted (as compared to 171 earlier)\n",
    "\n",
    "### Thus the overall accuracy of the model is reduced but the recall improved"
   ]
  },
  {
   "cell_type": "code",
   "execution_count": 44,
   "metadata": {
    "scrolled": true
   },
   "outputs": [
    {
     "data": {
      "text/plain": [
       "array([[4067, 1028],\n",
       "       [  23,  246]], dtype=int64)"
      ]
     },
     "execution_count": 44,
     "metadata": {},
     "output_type": "execute_result"
    }
   ],
   "source": [
    "rf = RandomForestClassifier(max_depth=2, random_state=0)\n",
    "rf.fit(X_ROS, y_ROS)\n",
    "rf_pred = rf.predict(X_test)\n",
    "confusion_matrix(y_test, rf_pred, labels=[0,1])"
   ]
  },
  {
   "cell_type": "code",
   "execution_count": 45,
   "metadata": {},
   "outputs": [
    {
     "name": "stdout",
     "output_type": "stream",
     "text": [
      "No Skill: ROC AUC=0.500\n",
      "Rand. Forest: ROC AUC=0.939\n"
     ]
    },
    {
     "data": {
      "image/png": "[encoded data removed]",
      "text/plain": [
       "<Figure size 864x576 with 1 Axes>"
      ]
     },
     "metadata": {
      "needs_background": "light"
     },
     "output_type": "display_data"
    }
   ],
   "source": [
    "plot_roc_curve(rf, X_test, y_test, 'Rand. Forest')"
   ]
  },
  {
   "cell_type": "code",
   "execution_count": 46,
   "metadata": {},
   "outputs": [],
   "source": [
    "# xgb = XGBClassifier()\n",
    "# optimization_dict = {'max_depth': [3,5,7],\n",
    "#                      'n_estimators': [50,70,80,90,100,150,200],\n",
    "#                     'min_samples_leaf': [1, 2, 4],\n",
    "#                     'min_samples_split': [2, 5, 10]}\n",
    "\n",
    "# model = RandomizedSearchCV(xgb, optimization_dict, \n",
    "#                      scoring='f1', verbose=10)"
   ]
  },
  {
   "cell_type": "code",
   "execution_count": 47,
   "metadata": {},
   "outputs": [],
   "source": [
    "# model.fit(X_ROS, y_ROS)\n",
    "# print(model.best_score_)\n",
    "# print(model.best_params_)"
   ]
  },
  {
   "cell_type": "markdown",
   "metadata": {},
   "source": [
    "### Fitting XGboost classifier on the best parameters obtained after hyperparameter tuning"
   ]
  },
  {
   "cell_type": "code",
   "execution_count": 71,
   "metadata": {},
   "outputs": [
    {
     "data": {
      "text/plain": [
       "XGBClassifier(base_score=0.5, booster=None, colsample_bylevel=1,\n",
       "              colsample_bynode=1, colsample_bytree=1, gamma=0, gpu_id=-1,\n",
       "              importance_type='gain', interaction_constraints=None,\n",
       "              learning_rate=0.300000012, max_delta_step=0, max_depth=7,\n",
       "              min_child_weight=1, min_samples_leaf=2, min_samples_split=5,\n",
       "              missing=nan, monotone_constraints=None, n_estimators=150,\n",
       "              n_jobs=0, num_parallel_tree=1, objective='binary:logistic',\n",
       "              random_state=0, reg_alpha=0, reg_lambda=1, scale_pos_weight=1,\n",
       "              subsample=1, tree_method=None, validate_parameters=False,\n",
       "              verbosity=None)"
      ]
     },
     "execution_count": 71,
     "metadata": {},
     "output_type": "execute_result"
    }
   ],
   "source": [
    "model = XGBClassifier(n_estimators=150, min_samples_split=5, min_samples_leaf=2, max_depth=7)\n",
    "model.fit(X_ROS, y_ROS)"
   ]
  },
  {
   "cell_type": "code",
   "execution_count": 72,
   "metadata": {},
   "outputs": [
    {
     "data": {
      "text/plain": [
       "array([[5084,   11],\n",
       "       [  48,  221]], dtype=int64)"
      ]
     },
     "execution_count": 72,
     "metadata": {},
     "output_type": "execute_result"
    }
   ],
   "source": [
    "xgb_pred = model.predict(X_test)\n",
    "confusion_matrix(y_test, xgb_pred, labels=[0,1])"
   ]
  },
  {
   "cell_type": "code",
   "execution_count": 73,
   "metadata": {},
   "outputs": [
    {
     "name": "stdout",
     "output_type": "stream",
     "text": [
      "No Skill: ROC AUC=0.500\n",
      "XGboost: ROC AUC=0.989\n"
     ]
    },
    {
     "data": {
      "image/png": "[encoded data removed]",
      "text/plain": [
       "<Figure size 864x576 with 1 Axes>"
      ]
     },
     "metadata": {
      "needs_background": "light"
     },
     "output_type": "display_data"
    }
   ],
   "source": [
    "plot_roc_curve(model, X_test, y_test, 'XGboost')"
   ]
  },
  {
   "cell_type": "markdown",
   "metadata": {},
   "source": [
    "### XGboost tuned model gives roc auc score of 0.989"
   ]
  },
  {
   "cell_type": "code",
   "execution_count": 76,
   "metadata": {},
   "outputs": [],
   "source": [
    "to_append = pd.DataFrame({'has_company_logo': data['has_company_logo'], 'telecommuting': data['telecommuting'], \n",
    "                          'has_questions': data['has_questions']})"
   ]
  },
  {
   "cell_type": "code",
   "execution_count": 77,
   "metadata": {},
   "outputs": [],
   "source": [
    "vector_combined_OT = hstack([company_profile_vector,benefits_vector, description_vector, requirements_vector, to_append])"
   ]
  },
  {
   "cell_type": "code",
   "execution_count": 78,
   "metadata": {},
   "outputs": [
    {
     "data": {
      "text/plain": [
       "(17880, 140077)"
      ]
     },
     "execution_count": 78,
     "metadata": {},
     "output_type": "execute_result"
    }
   ],
   "source": [
    "vector_combined_OT.shape"
   ]
  },
  {
   "cell_type": "code",
   "execution_count": 79,
   "metadata": {},
   "outputs": [],
   "source": [
    "ros = RandomOverSampler(random_state=777)\n",
    "X_ROS, y_ROS = ros.fit_sample(vector_combined_OT, data['fraudulent'])"
   ]
  },
  {
   "cell_type": "code",
   "execution_count": 80,
   "metadata": {},
   "outputs": [
    {
     "data": {
      "text/plain": [
       "(34028, 140077)"
      ]
     },
     "execution_count": 80,
     "metadata": {},
     "output_type": "execute_result"
    }
   ],
   "source": [
    "X_ROS.shape"
   ]
  },
  {
   "cell_type": "code",
   "execution_count": 81,
   "metadata": {},
   "outputs": [
    {
     "data": {
      "text/plain": [
       "XGBClassifier(base_score=0.5, booster=None, colsample_bylevel=1,\n",
       "              colsample_bynode=1, colsample_bytree=1, gamma=0, gpu_id=-1,\n",
       "              importance_type='gain', interaction_constraints=None,\n",
       "              learning_rate=0.300000012, max_delta_step=0, max_depth=7,\n",
       "              min_child_weight=1, min_samples_leaf=2, min_samples_split=5,\n",
       "              missing=nan, monotone_constraints=None, n_estimators=150,\n",
       "              n_jobs=0, num_parallel_tree=1, objective='binary:logistic',\n",
       "              random_state=0, reg_alpha=0, reg_lambda=1, scale_pos_weight=1,\n",
       "              subsample=1, tree_method=None, validate_parameters=False,\n",
       "              verbosity=None)"
      ]
     },
     "execution_count": 81,
     "metadata": {},
     "output_type": "execute_result"
    }
   ],
   "source": [
    "model.fit(X_ROS, y_ROS)"
   ]
  },
  {
   "cell_type": "code",
   "execution_count": 85,
   "metadata": {},
   "outputs": [],
   "source": [
    "def custom_tokenize(text):\n",
    "    if not text:\n",
    "        print('The text to be tokenized is a None type. Defaulting to blank string.')\n",
    "        text = ''\n",
    "    return nltk.word_tokenize(text)\n",
    "\n",
    "stop_words = list(set(stopwords.words('english')))+list(punctuation)+['``', \"'s\", \"...\", \"n't\", 'unknown']"
   ]
  },
  {
   "cell_type": "code",
   "execution_count": 82,
   "metadata": {},
   "outputs": [],
   "source": [
    "def custom_pipeline(data):\n",
    "    \n",
    "    \"\"\"\n",
    "    This method takes raw data as input containing company profile, description, requirements and benefits, cleans\n",
    "    the raw data, and returns a TF-IDF vector on which a model can be used.\n",
    "    \"\"\"\n",
    "    data['company_profile'] = data['company_profile'].str.lower()\n",
    "    data['description'] = data['description'].str.lower()\n",
    "    data['requirements'] = data['requirements'].str.lower()\n",
    "    data['benefits'] = data['benefits'].str.lower()\n",
    "    \n",
    "    #removing special characters\n",
    "    data['company_profile'] = data['company_profile'].str.replace('[^\\dA-Za-z]', ' ')\n",
    "    data['description'] = data['description'].str.replace('[^\\dA-Za-z]', ' ')\n",
    "    data['requirements'] = data['requirements'].str.replace('[^\\dA-Za-z]', ' ')\n",
    "    data['benefits'] = data['benefits'].str.replace('[^\\dA-Za-z]', ' ')\n",
    "    \n",
    "    #tokenizing textual data\n",
    "    data['company_profile'] = data['company_profile'].apply(custom_tokenize)\n",
    "    data['description'] = data['description'].apply(custom_tokenize)\n",
    "    data['requirements'] = data['requirements'].apply(custom_tokenize)\n",
    "    data['benefits'] = data['benefits'].apply(custom_tokenize)\n",
    "    \n",
    "    #removing stop words\n",
    "    data['company_profile'] = data['company_profile'].apply(lambda row: [word for word in row if word not in stop_words])\n",
    "    data['description'] = data['description'].apply(lambda row: [word for word in row if word not in stop_words])\n",
    "    data['requirements'] = data['requirements'].apply(lambda row: [word for word in row if word not in stop_words])\n",
    "    data['benefits'] = data['benefits'].apply(lambda row: [word for word in row if word not in stop_words])\n",
    "    \n",
    "    #converting back to string\n",
    "    data['company_profile'] = data['company_profile'].apply(lambda x: ' '.join(x))\n",
    "    data['description'] = data['description'].apply(lambda x: ' '.join(x))\n",
    "    data['requirements'] = data['requirements'].apply(lambda x: ' '.join(x))\n",
    "    data['benefits'] = data['benefits'].apply(lambda x: ' '.join(x))\n",
    "    \n",
    "    #transforming text data into vector\n",
    "    company_profile_vector = tfidf_vectorizer_profile.transform(data['company_profile'])\n",
    "    benefits_vector = tfidf_vectorizer_benefits.transform(data['benefits'])\n",
    "    description_vector = tfidf_vectorizer_description.transform(data['description'])\n",
    "    requirements_vector = tfidf_vectorizer_requirements.transform(data['requirements'])\n",
    "    \n",
    "    append_df = pd.DataFrame({'has_company_logo': data['has_company_logo'], 'telecommuting': data['telecommuting'], \n",
    "                          'has_questions': data['has_questions']})\n",
    "    vector_combined = hstack([company_profile_vector,benefits_vector, description_vector, requirements_vector, append_df])\n",
    "    \n",
    "    return vector_combined"
   ]
  },
  {
   "cell_type": "code",
   "execution_count": 83,
   "metadata": {},
   "outputs": [],
   "source": [
    "profile = ['This is a custom company profile.']\n",
    "description = ['Your job is to work 8 hours a day.']\n",
    "requirements = ['Everything from your education.']\n",
    "benefits = ['There are no benefits in this job.']\n",
    "\n",
    "custom_data = pd.DataFrame({'company_profile': profile, 'description': description, 'requirements': requirements, 'benefits': benefits, 'has_company_logo': 1, 'has_questions': 0, 'telecommuting': 1})"
   ]
  },
  {
   "cell_type": "code",
   "execution_count": 86,
   "metadata": {},
   "outputs": [],
   "source": [
    "vector = custom_pipeline(custom_data)"
   ]
  },
  {
   "cell_type": "code",
   "execution_count": 87,
   "metadata": {},
   "outputs": [
    {
     "data": {
      "text/plain": [
       "(1, 140077)"
      ]
     },
     "execution_count": 87,
     "metadata": {},
     "output_type": "execute_result"
    }
   ],
   "source": [
    "vector.shape"
   ]
  },
  {
   "cell_type": "markdown",
   "metadata": {},
   "source": [
    "### Serializing the custom_pipeline function and the XGBoost model so that it can be used in the flask model."
   ]
  },
  {
   "cell_type": "code",
   "execution_count": 89,
   "metadata": {},
   "outputs": [],
   "source": [
    "#serializing the XGBoost model\n",
    "pickle.dump(model, open('model.pkl','wb'))\n",
    "deserialized_model = pickle.load(open('model.pkl','rb'))\n",
    "\n",
    "preds = deserialized_model.predict(vector)"
   ]
  },
  {
   "cell_type": "code",
   "execution_count": 90,
   "metadata": {},
   "outputs": [],
   "source": [
    "import cloudpickle\n",
    "\n",
    "cloudpickle.dump(custom_pipeline, open('custom_pipeline_cloudpickle.pkl','wb'))"
   ]
  },
  {
   "cell_type": "code",
   "execution_count": 91,
   "metadata": {},
   "outputs": [],
   "source": [
    "pickled = cloudpickle.load(open('custom_pipeline_cloudpickle.pkl','rb'))"
   ]
  },
  {
   "cell_type": "code",
   "execution_count": null,
   "metadata": {},
   "outputs": [],
   "source": []
  }
 ],
 "metadata": {
  "kernelspec": {
   "display_name": "Python 3",
   "language": "python",
   "name": "python3"
  },
  "language_info": {
   "codemirror_mode": {
    "name": "ipython",
    "version": 3
   },
   "file_extension": ".py",
   "mimetype": "text/x-python",
   "name": "python",
   "nbconvert_exporter": "python",
   "pygments_lexer": "ipython3",
   "version": "3.7.3"
  }
 },
 "nbformat": 4,
 "nbformat_minor": 2
}
