{
 "cells": [
  {
   "cell_type": "code",
   "execution_count": 64,
   "metadata": {},
   "outputs": [],
   "source": [
    "import pandas as pd\n",
    "from sklearn.feature_extraction.text import TfidfVectorizer\n",
    "from nltk.corpus import stopwords\n",
    "import re\n",
    "from scipy.sparse import coo_matrix, hstack\n",
    "from sklearn.model_selection import train_test_split\n",
    "from sklearn.linear_model import LogisticRegression\n",
    "import warnings\n",
    "warnings.filterwarnings('ignore')\n",
    "from sklearn.metrics import accuracy_score\n",
    "from sklearn.metrics import confusion_matrix"
   ]
  },
  {
   "cell_type": "code",
   "execution_count": 22,
   "metadata": {},
   "outputs": [
    {
     "data": {
      "text/html": [
       "<div>\n",
       "<style scoped>\n",
       "    .dataframe tbody tr th:only-of-type {\n",
       "        vertical-align: middle;\n",
       "    }\n",
       "\n",
       "    .dataframe tbody tr th {\n",
       "        vertical-align: top;\n",
       "    }\n",
       "\n",
       "    .dataframe thead th {\n",
       "        text-align: right;\n",
       "    }\n",
       "</style>\n",
       "<table border=\"1\" class=\"dataframe\">\n",
       "  <thead>\n",
       "    <tr style=\"text-align: right;\">\n",
       "      <th></th>\n",
       "      <th>job_id</th>\n",
       "      <th>title</th>\n",
       "      <th>department</th>\n",
       "      <th>salary_range</th>\n",
       "      <th>company_profile</th>\n",
       "      <th>description</th>\n",
       "      <th>requirements</th>\n",
       "      <th>benefits</th>\n",
       "      <th>telecommuting</th>\n",
       "      <th>has_company_logo</th>\n",
       "      <th>...</th>\n",
       "      <th>required_education</th>\n",
       "      <th>industry</th>\n",
       "      <th>function</th>\n",
       "      <th>fraudulent</th>\n",
       "      <th>country_code</th>\n",
       "      <th>city_name</th>\n",
       "      <th>company_profile_tokenized</th>\n",
       "      <th>description_tokenized</th>\n",
       "      <th>requirements_tokenized</th>\n",
       "      <th>benefits_tokenized</th>\n",
       "    </tr>\n",
       "  </thead>\n",
       "  <tbody>\n",
       "    <tr>\n",
       "      <th>0</th>\n",
       "      <td>1</td>\n",
       "      <td>Marketing Intern</td>\n",
       "      <td>Marketing</td>\n",
       "      <td>unknown</td>\n",
       "      <td>We re Food52  and we ve created a groundbreaki...</td>\n",
       "      <td>Food52  a fast growing  James Beard Award winn...</td>\n",
       "      <td>Experience with content management systems a m...</td>\n",
       "      <td>unknown</td>\n",
       "      <td>0</td>\n",
       "      <td>1</td>\n",
       "      <td>...</td>\n",
       "      <td>unknown</td>\n",
       "      <td>unknown</td>\n",
       "      <td>Marketing</td>\n",
       "      <td>0</td>\n",
       "      <td>US</td>\n",
       "      <td>New York</td>\n",
       "      <td>['We', 'Food52', 'created', 'groundbreaking', ...</td>\n",
       "      <td>['Food52', 'fast', 'growing', 'James', 'Beard'...</td>\n",
       "      <td>['Experience', 'content', 'management', 'syste...</td>\n",
       "      <td>[]</td>\n",
       "    </tr>\n",
       "    <tr>\n",
       "      <th>1</th>\n",
       "      <td>2</td>\n",
       "      <td>Customer Service - Cloud Video Production</td>\n",
       "      <td>Success</td>\n",
       "      <td>unknown</td>\n",
       "      <td>90 Seconds  the worlds Cloud Video Production ...</td>\n",
       "      <td>Organised   Focused   Vibrant   Awesome Do you...</td>\n",
       "      <td>What we expect from you Your key responsibilit...</td>\n",
       "      <td>What you will get from usThrough being part of...</td>\n",
       "      <td>0</td>\n",
       "      <td>1</td>\n",
       "      <td>...</td>\n",
       "      <td>unknown</td>\n",
       "      <td>Marketing and Advertising</td>\n",
       "      <td>Customer Service</td>\n",
       "      <td>0</td>\n",
       "      <td>NZ</td>\n",
       "      <td>Auckland</td>\n",
       "      <td>['90', 'Seconds', 'worlds', 'Cloud', 'Video', ...</td>\n",
       "      <td>['Organised', 'Focused', 'Vibrant', 'Awesome',...</td>\n",
       "      <td>['What', 'expect', 'Your', 'key', 'responsibil...</td>\n",
       "      <td>['What', 'get', 'usThrough', 'part', '90', 'Se...</td>\n",
       "    </tr>\n",
       "    <tr>\n",
       "      <th>2</th>\n",
       "      <td>3</td>\n",
       "      <td>Commissioning Machinery Assistant (CMA)</td>\n",
       "      <td>unknown</td>\n",
       "      <td>unknown</td>\n",
       "      <td>Valor Services provides Workforce Solutions th...</td>\n",
       "      <td>Our client  located in Houston  is actively se...</td>\n",
       "      <td>Implement pre commissioning and commissioning ...</td>\n",
       "      <td>unknown</td>\n",
       "      <td>0</td>\n",
       "      <td>1</td>\n",
       "      <td>...</td>\n",
       "      <td>unknown</td>\n",
       "      <td>unknown</td>\n",
       "      <td>unknown</td>\n",
       "      <td>0</td>\n",
       "      <td>US</td>\n",
       "      <td>Wever</td>\n",
       "      <td>['Valor', 'Services', 'provides', 'Workforce',...</td>\n",
       "      <td>['Our', 'client', 'located', 'Houston', 'activ...</td>\n",
       "      <td>['Implement', 'pre', 'commissioning', 'commiss...</td>\n",
       "      <td>[]</td>\n",
       "    </tr>\n",
       "    <tr>\n",
       "      <th>3</th>\n",
       "      <td>4</td>\n",
       "      <td>Account Executive - Washington DC</td>\n",
       "      <td>Sales</td>\n",
       "      <td>unknown</td>\n",
       "      <td>Our passion for improving quality of life thro...</td>\n",
       "      <td>THE COMPANY  ESRI   Environmental Systems Rese...</td>\n",
       "      <td>EDUCATION  Bachelor s or Master s in GIS  busi...</td>\n",
       "      <td>Our culture is anything but corporate we have ...</td>\n",
       "      <td>0</td>\n",
       "      <td>1</td>\n",
       "      <td>...</td>\n",
       "      <td>Bachelor's Degree</td>\n",
       "      <td>Computer Software</td>\n",
       "      <td>Sales</td>\n",
       "      <td>0</td>\n",
       "      <td>US</td>\n",
       "      <td>Washington</td>\n",
       "      <td>['Our', 'passion', 'improving', 'quality', 'li...</td>\n",
       "      <td>['THE', 'COMPANY', 'ESRI', 'Environmental', 'S...</td>\n",
       "      <td>['EDUCATION', 'Bachelor', 'Master', 'GIS', 'bu...</td>\n",
       "      <td>['Our', 'culture', 'anything', 'corporate', 'c...</td>\n",
       "    </tr>\n",
       "    <tr>\n",
       "      <th>4</th>\n",
       "      <td>5</td>\n",
       "      <td>Bill Review Manager</td>\n",
       "      <td>unknown</td>\n",
       "      <td>unknown</td>\n",
       "      <td>SpotSource Solutions LLC is a Global Human Cap...</td>\n",
       "      <td>JOB TITLE  Itemization Review ManagerLOCATION ...</td>\n",
       "      <td>QUALIFICATIONS RN license in the State of Texa...</td>\n",
       "      <td>Full Benefits Offered</td>\n",
       "      <td>0</td>\n",
       "      <td>1</td>\n",
       "      <td>...</td>\n",
       "      <td>Bachelor's Degree</td>\n",
       "      <td>Hospital &amp; Health Care</td>\n",
       "      <td>Health Care Provider</td>\n",
       "      <td>0</td>\n",
       "      <td>US</td>\n",
       "      <td>Fort Worth</td>\n",
       "      <td>['SpotSource', 'Solutions', 'LLC', 'Global', '...</td>\n",
       "      <td>['JOB', 'TITLE', 'Itemization', 'Review', 'Man...</td>\n",
       "      <td>['QUALIFICATIONS', 'RN', 'license', 'State', '...</td>\n",
       "      <td>['Full', 'Benefits', 'Offered']</td>\n",
       "    </tr>\n",
       "  </tbody>\n",
       "</table>\n",
       "<p>5 rows × 23 columns</p>\n",
       "</div>"
      ],
      "text/plain": [
       "   job_id                                      title department salary_range  \\\n",
       "0       1                           Marketing Intern  Marketing      unknown   \n",
       "1       2  Customer Service - Cloud Video Production    Success      unknown   \n",
       "2       3    Commissioning Machinery Assistant (CMA)    unknown      unknown   \n",
       "3       4          Account Executive - Washington DC      Sales      unknown   \n",
       "4       5                        Bill Review Manager    unknown      unknown   \n",
       "\n",
       "                                     company_profile  \\\n",
       "0  We re Food52  and we ve created a groundbreaki...   \n",
       "1  90 Seconds  the worlds Cloud Video Production ...   \n",
       "2  Valor Services provides Workforce Solutions th...   \n",
       "3  Our passion for improving quality of life thro...   \n",
       "4  SpotSource Solutions LLC is a Global Human Cap...   \n",
       "\n",
       "                                         description  \\\n",
       "0  Food52  a fast growing  James Beard Award winn...   \n",
       "1  Organised   Focused   Vibrant   Awesome Do you...   \n",
       "2  Our client  located in Houston  is actively se...   \n",
       "3  THE COMPANY  ESRI   Environmental Systems Rese...   \n",
       "4  JOB TITLE  Itemization Review ManagerLOCATION ...   \n",
       "\n",
       "                                        requirements  \\\n",
       "0  Experience with content management systems a m...   \n",
       "1  What we expect from you Your key responsibilit...   \n",
       "2  Implement pre commissioning and commissioning ...   \n",
       "3  EDUCATION  Bachelor s or Master s in GIS  busi...   \n",
       "4  QUALIFICATIONS RN license in the State of Texa...   \n",
       "\n",
       "                                            benefits  telecommuting  \\\n",
       "0                                            unknown              0   \n",
       "1  What you will get from usThrough being part of...              0   \n",
       "2                                            unknown              0   \n",
       "3  Our culture is anything but corporate we have ...              0   \n",
       "4                              Full Benefits Offered              0   \n",
       "\n",
       "   has_company_logo  ...  required_education                   industry  \\\n",
       "0                 1  ...             unknown                    unknown   \n",
       "1                 1  ...             unknown  Marketing and Advertising   \n",
       "2                 1  ...             unknown                    unknown   \n",
       "3                 1  ...   Bachelor's Degree          Computer Software   \n",
       "4                 1  ...   Bachelor's Degree     Hospital & Health Care   \n",
       "\n",
       "               function fraudulent country_code    city_name  \\\n",
       "0             Marketing          0           US     New York   \n",
       "1      Customer Service          0           NZ     Auckland   \n",
       "2               unknown          0           US        Wever   \n",
       "3                 Sales          0           US   Washington   \n",
       "4  Health Care Provider          0           US   Fort Worth   \n",
       "\n",
       "                           company_profile_tokenized  \\\n",
       "0  ['We', 'Food52', 'created', 'groundbreaking', ...   \n",
       "1  ['90', 'Seconds', 'worlds', 'Cloud', 'Video', ...   \n",
       "2  ['Valor', 'Services', 'provides', 'Workforce',...   \n",
       "3  ['Our', 'passion', 'improving', 'quality', 'li...   \n",
       "4  ['SpotSource', 'Solutions', 'LLC', 'Global', '...   \n",
       "\n",
       "                               description_tokenized  \\\n",
       "0  ['Food52', 'fast', 'growing', 'James', 'Beard'...   \n",
       "1  ['Organised', 'Focused', 'Vibrant', 'Awesome',...   \n",
       "2  ['Our', 'client', 'located', 'Houston', 'activ...   \n",
       "3  ['THE', 'COMPANY', 'ESRI', 'Environmental', 'S...   \n",
       "4  ['JOB', 'TITLE', 'Itemization', 'Review', 'Man...   \n",
       "\n",
       "                              requirements_tokenized  \\\n",
       "0  ['Experience', 'content', 'management', 'syste...   \n",
       "1  ['What', 'expect', 'Your', 'key', 'responsibil...   \n",
       "2  ['Implement', 'pre', 'commissioning', 'commiss...   \n",
       "3  ['EDUCATION', 'Bachelor', 'Master', 'GIS', 'bu...   \n",
       "4  ['QUALIFICATIONS', 'RN', 'license', 'State', '...   \n",
       "\n",
       "                                  benefits_tokenized  \n",
       "0                                                 []  \n",
       "1  ['What', 'get', 'usThrough', 'part', '90', 'Se...  \n",
       "2                                                 []  \n",
       "3  ['Our', 'culture', 'anything', 'corporate', 'c...  \n",
       "4                    ['Full', 'Benefits', 'Offered']  \n",
       "\n",
       "[5 rows x 23 columns]"
      ]
     },
     "execution_count": 22,
     "metadata": {},
     "output_type": "execute_result"
    }
   ],
   "source": [
    "data = pd.read_csv('data/processed_data.csv')\n",
    "data.head()"
   ]
  },
  {
   "cell_type": "markdown",
   "metadata": {},
   "source": [
    "### For EDA, we replaced the null values with 'unknown'. We need to remove features which have large number of 'unknown' values as they will not help our model"
   ]
  },
  {
   "cell_type": "code",
   "execution_count": 23,
   "metadata": {},
   "outputs": [
    {
     "data": {
      "text/plain": [
       "Index(['job_id', 'title', 'department', 'salary_range', 'company_profile',\n",
       "       'description', 'requirements', 'benefits', 'telecommuting',\n",
       "       'has_company_logo', 'has_questions', 'employment_type',\n",
       "       'required_experience', 'required_education', 'industry', 'function',\n",
       "       'fraudulent', 'country_code', 'city_name', 'company_profile_tokenized',\n",
       "       'description_tokenized', 'requirements_tokenized',\n",
       "       'benefits_tokenized'],\n",
       "      dtype='object')"
      ]
     },
     "execution_count": 23,
     "metadata": {},
     "output_type": "execute_result"
    }
   ],
   "source": [
    "data.columns"
   ]
  },
  {
   "cell_type": "code",
   "execution_count": 24,
   "metadata": {},
   "outputs": [],
   "source": [
    "drop_cols = ['job_id', 'department', 'salary_range', 'company_profile_tokenized', 'description_tokenized',\n",
    "            'requirements_tokenized', 'benefits_tokenized']"
   ]
  },
  {
   "cell_type": "code",
   "execution_count": 25,
   "metadata": {},
   "outputs": [],
   "source": [
    "#dropping columns not required\n",
    "data.drop(drop_cols, axis=1, inplace=True)"
   ]
  },
  {
   "cell_type": "code",
   "execution_count": 26,
   "metadata": {},
   "outputs": [],
   "source": [
    "data['title'] = data['title'].replace({'unknown': 'title_unknown'})\n",
    "data['employment_type'] = data['employment_type'].replace({'unknown': 'employment_type_unknown'})\n",
    "data['required_experience'] = data['required_experience'].replace({'unknown': 'required_experience_unknown'})\n",
    "data['required_education'] = data['required_education'].replace({'unknown': 'required_education_unknown'})\n",
    "data['function'] = data['function'].replace({'unknown': 'function_unknown'})\n",
    "data['country_code'] = data['country_code'].replace({'unknown': 'country_code_unknown'})\n",
    "data['city_name'] = data['city_name'].replace({'unknown': 'city_name_unknown'})\n",
    "data['industry'] = data['industry'].replace({'unknown': 'industry_unknown'})"
   ]
  },
  {
   "cell_type": "code",
   "execution_count": 27,
   "metadata": {},
   "outputs": [
    {
     "data": {
      "text/html": [
       "<div>\n",
       "<style scoped>\n",
       "    .dataframe tbody tr th:only-of-type {\n",
       "        vertical-align: middle;\n",
       "    }\n",
       "\n",
       "    .dataframe tbody tr th {\n",
       "        vertical-align: top;\n",
       "    }\n",
       "\n",
       "    .dataframe thead th {\n",
       "        text-align: right;\n",
       "    }\n",
       "</style>\n",
       "<table border=\"1\" class=\"dataframe\">\n",
       "  <thead>\n",
       "    <tr style=\"text-align: right;\">\n",
       "      <th></th>\n",
       "      <th>title</th>\n",
       "      <th>company_profile</th>\n",
       "      <th>description</th>\n",
       "      <th>requirements</th>\n",
       "      <th>benefits</th>\n",
       "      <th>telecommuting</th>\n",
       "      <th>has_company_logo</th>\n",
       "      <th>has_questions</th>\n",
       "      <th>employment_type</th>\n",
       "      <th>required_experience</th>\n",
       "      <th>required_education</th>\n",
       "      <th>industry</th>\n",
       "      <th>function</th>\n",
       "      <th>fraudulent</th>\n",
       "      <th>country_code</th>\n",
       "      <th>city_name</th>\n",
       "    </tr>\n",
       "  </thead>\n",
       "  <tbody>\n",
       "    <tr>\n",
       "      <th>0</th>\n",
       "      <td>Marketing Intern</td>\n",
       "      <td>We re Food52  and we ve created a groundbreaki...</td>\n",
       "      <td>Food52  a fast growing  James Beard Award winn...</td>\n",
       "      <td>Experience with content management systems a m...</td>\n",
       "      <td>unknown</td>\n",
       "      <td>0</td>\n",
       "      <td>1</td>\n",
       "      <td>0</td>\n",
       "      <td>Other</td>\n",
       "      <td>Internship</td>\n",
       "      <td>required_education_unknown</td>\n",
       "      <td>industry_unknown</td>\n",
       "      <td>Marketing</td>\n",
       "      <td>0</td>\n",
       "      <td>US</td>\n",
       "      <td>New York</td>\n",
       "    </tr>\n",
       "    <tr>\n",
       "      <th>1</th>\n",
       "      <td>Customer Service - Cloud Video Production</td>\n",
       "      <td>90 Seconds  the worlds Cloud Video Production ...</td>\n",
       "      <td>Organised   Focused   Vibrant   Awesome Do you...</td>\n",
       "      <td>What we expect from you Your key responsibilit...</td>\n",
       "      <td>What you will get from usThrough being part of...</td>\n",
       "      <td>0</td>\n",
       "      <td>1</td>\n",
       "      <td>0</td>\n",
       "      <td>Full-time</td>\n",
       "      <td>Not Applicable</td>\n",
       "      <td>required_education_unknown</td>\n",
       "      <td>Marketing and Advertising</td>\n",
       "      <td>Customer Service</td>\n",
       "      <td>0</td>\n",
       "      <td>NZ</td>\n",
       "      <td>Auckland</td>\n",
       "    </tr>\n",
       "    <tr>\n",
       "      <th>2</th>\n",
       "      <td>Commissioning Machinery Assistant (CMA)</td>\n",
       "      <td>Valor Services provides Workforce Solutions th...</td>\n",
       "      <td>Our client  located in Houston  is actively se...</td>\n",
       "      <td>Implement pre commissioning and commissioning ...</td>\n",
       "      <td>unknown</td>\n",
       "      <td>0</td>\n",
       "      <td>1</td>\n",
       "      <td>0</td>\n",
       "      <td>employment_type_unknown</td>\n",
       "      <td>required_experience_unknown</td>\n",
       "      <td>required_education_unknown</td>\n",
       "      <td>industry_unknown</td>\n",
       "      <td>function_unknown</td>\n",
       "      <td>0</td>\n",
       "      <td>US</td>\n",
       "      <td>Wever</td>\n",
       "    </tr>\n",
       "    <tr>\n",
       "      <th>3</th>\n",
       "      <td>Account Executive - Washington DC</td>\n",
       "      <td>Our passion for improving quality of life thro...</td>\n",
       "      <td>THE COMPANY  ESRI   Environmental Systems Rese...</td>\n",
       "      <td>EDUCATION  Bachelor s or Master s in GIS  busi...</td>\n",
       "      <td>Our culture is anything but corporate we have ...</td>\n",
       "      <td>0</td>\n",
       "      <td>1</td>\n",
       "      <td>0</td>\n",
       "      <td>Full-time</td>\n",
       "      <td>Mid-Senior level</td>\n",
       "      <td>Bachelor's Degree</td>\n",
       "      <td>Computer Software</td>\n",
       "      <td>Sales</td>\n",
       "      <td>0</td>\n",
       "      <td>US</td>\n",
       "      <td>Washington</td>\n",
       "    </tr>\n",
       "    <tr>\n",
       "      <th>4</th>\n",
       "      <td>Bill Review Manager</td>\n",
       "      <td>SpotSource Solutions LLC is a Global Human Cap...</td>\n",
       "      <td>JOB TITLE  Itemization Review ManagerLOCATION ...</td>\n",
       "      <td>QUALIFICATIONS RN license in the State of Texa...</td>\n",
       "      <td>Full Benefits Offered</td>\n",
       "      <td>0</td>\n",
       "      <td>1</td>\n",
       "      <td>1</td>\n",
       "      <td>Full-time</td>\n",
       "      <td>Mid-Senior level</td>\n",
       "      <td>Bachelor's Degree</td>\n",
       "      <td>Hospital &amp; Health Care</td>\n",
       "      <td>Health Care Provider</td>\n",
       "      <td>0</td>\n",
       "      <td>US</td>\n",
       "      <td>Fort Worth</td>\n",
       "    </tr>\n",
       "  </tbody>\n",
       "</table>\n",
       "</div>"
      ],
      "text/plain": [
       "                                       title  \\\n",
       "0                           Marketing Intern   \n",
       "1  Customer Service - Cloud Video Production   \n",
       "2    Commissioning Machinery Assistant (CMA)   \n",
       "3          Account Executive - Washington DC   \n",
       "4                        Bill Review Manager   \n",
       "\n",
       "                                     company_profile  \\\n",
       "0  We re Food52  and we ve created a groundbreaki...   \n",
       "1  90 Seconds  the worlds Cloud Video Production ...   \n",
       "2  Valor Services provides Workforce Solutions th...   \n",
       "3  Our passion for improving quality of life thro...   \n",
       "4  SpotSource Solutions LLC is a Global Human Cap...   \n",
       "\n",
       "                                         description  \\\n",
       "0  Food52  a fast growing  James Beard Award winn...   \n",
       "1  Organised   Focused   Vibrant   Awesome Do you...   \n",
       "2  Our client  located in Houston  is actively se...   \n",
       "3  THE COMPANY  ESRI   Environmental Systems Rese...   \n",
       "4  JOB TITLE  Itemization Review ManagerLOCATION ...   \n",
       "\n",
       "                                        requirements  \\\n",
       "0  Experience with content management systems a m...   \n",
       "1  What we expect from you Your key responsibilit...   \n",
       "2  Implement pre commissioning and commissioning ...   \n",
       "3  EDUCATION  Bachelor s or Master s in GIS  busi...   \n",
       "4  QUALIFICATIONS RN license in the State of Texa...   \n",
       "\n",
       "                                            benefits  telecommuting  \\\n",
       "0                                            unknown              0   \n",
       "1  What you will get from usThrough being part of...              0   \n",
       "2                                            unknown              0   \n",
       "3  Our culture is anything but corporate we have ...              0   \n",
       "4                              Full Benefits Offered              0   \n",
       "\n",
       "   has_company_logo  has_questions          employment_type  \\\n",
       "0                 1              0                    Other   \n",
       "1                 1              0                Full-time   \n",
       "2                 1              0  employment_type_unknown   \n",
       "3                 1              0                Full-time   \n",
       "4                 1              1                Full-time   \n",
       "\n",
       "           required_experience          required_education  \\\n",
       "0                   Internship  required_education_unknown   \n",
       "1               Not Applicable  required_education_unknown   \n",
       "2  required_experience_unknown  required_education_unknown   \n",
       "3             Mid-Senior level           Bachelor's Degree   \n",
       "4             Mid-Senior level           Bachelor's Degree   \n",
       "\n",
       "                    industry              function  fraudulent country_code  \\\n",
       "0           industry_unknown             Marketing           0           US   \n",
       "1  Marketing and Advertising      Customer Service           0           NZ   \n",
       "2           industry_unknown      function_unknown           0           US   \n",
       "3          Computer Software                 Sales           0           US   \n",
       "4     Hospital & Health Care  Health Care Provider           0           US   \n",
       "\n",
       "     city_name  \n",
       "0     New York  \n",
       "1     Auckland  \n",
       "2        Wever  \n",
       "3   Washington  \n",
       "4   Fort Worth  "
      ]
     },
     "execution_count": 27,
     "metadata": {},
     "output_type": "execute_result"
    }
   ],
   "source": [
    "data.head()"
   ]
  },
  {
   "cell_type": "code",
   "execution_count": 28,
   "metadata": {},
   "outputs": [],
   "source": [
    "#replacing 'unknown' in textual columns with blank space as we have to build vectors\n",
    "data['company_profile'] = data['company_profile'].replace({'unknown': ''})\n",
    "data['description'] = data['description'].replace({'unknown': ''})\n",
    "data['requirements'] = data['requirements'].replace({'unknown': ''})\n",
    "data['benefits'] = data['benefits'].replace({'unknown': ''})"
   ]
  },
  {
   "cell_type": "code",
   "execution_count": 29,
   "metadata": {},
   "outputs": [
    {
     "data": {
      "text/plain": [
       "Index(['title', 'company_profile', 'description', 'requirements', 'benefits',\n",
       "       'telecommuting', 'has_company_logo', 'has_questions', 'employment_type',\n",
       "       'required_experience', 'required_education', 'industry', 'function',\n",
       "       'fraudulent', 'country_code', 'city_name'],\n",
       "      dtype='object')"
      ]
     },
     "execution_count": 29,
     "metadata": {},
     "output_type": "execute_result"
    }
   ],
   "source": [
    "data.columns"
   ]
  },
  {
   "cell_type": "code",
   "execution_count": 30,
   "metadata": {},
   "outputs": [],
   "source": [
    "categorical_cols = ['title', 'employment_type', 'required_experience', 'required_education', \n",
    "                    'industry', 'function', 'country_code', 'city_name']"
   ]
  },
  {
   "cell_type": "code",
   "execution_count": 31,
   "metadata": {},
   "outputs": [],
   "source": [
    "encoded_data = pd.DataFrame()\n",
    "for col in categorical_cols:\n",
    "    col_dummies = pd.get_dummies(data[col])\n",
    "    encoded_data = pd.concat([encoded_data, col_dummies], axis=1)\n",
    "    data.drop(col, axis=1, inplace=True)"
   ]
  },
  {
   "cell_type": "code",
   "execution_count": 32,
   "metadata": {},
   "outputs": [
    {
     "data": {
      "text/html": [
       "<div>\n",
       "<style scoped>\n",
       "    .dataframe tbody tr th:only-of-type {\n",
       "        vertical-align: middle;\n",
       "    }\n",
       "\n",
       "    .dataframe tbody tr th {\n",
       "        vertical-align: top;\n",
       "    }\n",
       "\n",
       "    .dataframe thead th {\n",
       "        text-align: right;\n",
       "    }\n",
       "</style>\n",
       "<table border=\"1\" class=\"dataframe\">\n",
       "  <thead>\n",
       "    <tr style=\"text-align: right;\">\n",
       "      <th></th>\n",
       "      <th>Electrician</th>\n",
       "      <th>Environmental Technician I</th>\n",
       "      <th>Piping Material Engineer</th>\n",
       "      <th>Discipline Manager Civil, Structural, Marine, Architectural</th>\n",
       "      <th>FEA Senior engineer</th>\n",
       "      <th>Manager of Project Management Organization - Engineering</th>\n",
       "      <th>Mechanical Engineering Manager</th>\n",
       "      <th>Resources Change Management, Process Excellence and Change Enablement Manager</th>\n",
       "      <th>ServiceNow Consultant</th>\n",
       "      <th>AUTOCAD OPERATOR</th>\n",
       "      <th>...</th>\n",
       "      <th>wilmington</th>\n",
       "      <th>woodbridge</th>\n",
       "      <th>woodruff</th>\n",
       "      <th>worcester</th>\n",
       "      <th>İstanbul</th>\n",
       "      <th>Αthens</th>\n",
       "      <th>Αθήνα</th>\n",
       "      <th>ΕΛΛΗΝΙΚΟ</th>\n",
       "      <th>마포구 동교동</th>\n",
       "      <th>city_name_unknown</th>\n",
       "    </tr>\n",
       "  </thead>\n",
       "  <tbody>\n",
       "    <tr>\n",
       "      <th>0</th>\n",
       "      <td>0</td>\n",
       "      <td>0</td>\n",
       "      <td>0</td>\n",
       "      <td>0</td>\n",
       "      <td>0</td>\n",
       "      <td>0</td>\n",
       "      <td>0</td>\n",
       "      <td>0</td>\n",
       "      <td>0</td>\n",
       "      <td>0</td>\n",
       "      <td>...</td>\n",
       "      <td>0</td>\n",
       "      <td>0</td>\n",
       "      <td>0</td>\n",
       "      <td>0</td>\n",
       "      <td>0</td>\n",
       "      <td>0</td>\n",
       "      <td>0</td>\n",
       "      <td>0</td>\n",
       "      <td>0</td>\n",
       "      <td>0</td>\n",
       "    </tr>\n",
       "    <tr>\n",
       "      <th>1</th>\n",
       "      <td>0</td>\n",
       "      <td>0</td>\n",
       "      <td>0</td>\n",
       "      <td>0</td>\n",
       "      <td>0</td>\n",
       "      <td>0</td>\n",
       "      <td>0</td>\n",
       "      <td>0</td>\n",
       "      <td>0</td>\n",
       "      <td>0</td>\n",
       "      <td>...</td>\n",
       "      <td>0</td>\n",
       "      <td>0</td>\n",
       "      <td>0</td>\n",
       "      <td>0</td>\n",
       "      <td>0</td>\n",
       "      <td>0</td>\n",
       "      <td>0</td>\n",
       "      <td>0</td>\n",
       "      <td>0</td>\n",
       "      <td>0</td>\n",
       "    </tr>\n",
       "    <tr>\n",
       "      <th>2</th>\n",
       "      <td>0</td>\n",
       "      <td>0</td>\n",
       "      <td>0</td>\n",
       "      <td>0</td>\n",
       "      <td>0</td>\n",
       "      <td>0</td>\n",
       "      <td>0</td>\n",
       "      <td>0</td>\n",
       "      <td>0</td>\n",
       "      <td>0</td>\n",
       "      <td>...</td>\n",
       "      <td>0</td>\n",
       "      <td>0</td>\n",
       "      <td>0</td>\n",
       "      <td>0</td>\n",
       "      <td>0</td>\n",
       "      <td>0</td>\n",
       "      <td>0</td>\n",
       "      <td>0</td>\n",
       "      <td>0</td>\n",
       "      <td>0</td>\n",
       "    </tr>\n",
       "    <tr>\n",
       "      <th>3</th>\n",
       "      <td>0</td>\n",
       "      <td>0</td>\n",
       "      <td>0</td>\n",
       "      <td>0</td>\n",
       "      <td>0</td>\n",
       "      <td>0</td>\n",
       "      <td>0</td>\n",
       "      <td>0</td>\n",
       "      <td>0</td>\n",
       "      <td>0</td>\n",
       "      <td>...</td>\n",
       "      <td>0</td>\n",
       "      <td>0</td>\n",
       "      <td>0</td>\n",
       "      <td>0</td>\n",
       "      <td>0</td>\n",
       "      <td>0</td>\n",
       "      <td>0</td>\n",
       "      <td>0</td>\n",
       "      <td>0</td>\n",
       "      <td>0</td>\n",
       "    </tr>\n",
       "    <tr>\n",
       "      <th>4</th>\n",
       "      <td>0</td>\n",
       "      <td>0</td>\n",
       "      <td>0</td>\n",
       "      <td>0</td>\n",
       "      <td>0</td>\n",
       "      <td>0</td>\n",
       "      <td>0</td>\n",
       "      <td>0</td>\n",
       "      <td>0</td>\n",
       "      <td>0</td>\n",
       "      <td>...</td>\n",
       "      <td>0</td>\n",
       "      <td>0</td>\n",
       "      <td>0</td>\n",
       "      <td>0</td>\n",
       "      <td>0</td>\n",
       "      <td>0</td>\n",
       "      <td>0</td>\n",
       "      <td>0</td>\n",
       "      <td>0</td>\n",
       "      <td>0</td>\n",
       "    </tr>\n",
       "  </tbody>\n",
       "</table>\n",
       "<p>5 rows × 13854 columns</p>\n",
       "</div>"
      ],
      "text/plain": [
       "      Electrician      Environmental Technician I  \\\n",
       "0                0                              0   \n",
       "1                0                              0   \n",
       "2                0                              0   \n",
       "3                0                              0   \n",
       "4                0                              0   \n",
       "\n",
       "      Piping Material Engineer  \\\n",
       "0                            0   \n",
       "1                            0   \n",
       "2                            0   \n",
       "3                            0   \n",
       "4                            0   \n",
       "\n",
       "     Discipline Manager Civil, Structural, Marine, Architectural  \\\n",
       "0                                                  0               \n",
       "1                                                  0               \n",
       "2                                                  0               \n",
       "3                                                  0               \n",
       "4                                                  0               \n",
       "\n",
       "     FEA Senior engineer  \\\n",
       "0                      0   \n",
       "1                      0   \n",
       "2                      0   \n",
       "3                      0   \n",
       "4                      0   \n",
       "\n",
       "     Manager of Project Management Organization - Engineering  \\\n",
       "0                                                  0            \n",
       "1                                                  0            \n",
       "2                                                  0            \n",
       "3                                                  0            \n",
       "4                                                  0            \n",
       "\n",
       "     Mechanical Engineering Manager  \\\n",
       "0                                 0   \n",
       "1                                 0   \n",
       "2                                 0   \n",
       "3                                 0   \n",
       "4                                 0   \n",
       "\n",
       "     Resources Change Management, Process Excellence and Change Enablement Manager  \\\n",
       "0                                                  0                                 \n",
       "1                                                  0                                 \n",
       "2                                                  0                                 \n",
       "3                                                  0                                 \n",
       "4                                                  0                                 \n",
       "\n",
       "     ServiceNow Consultant    AUTOCAD OPERATOR  ...   wilmington  \\\n",
       "0                         0                  0  ...            0   \n",
       "1                         0                  0  ...            0   \n",
       "2                         0                  0  ...            0   \n",
       "3                         0                  0  ...            0   \n",
       "4                         0                  0  ...            0   \n",
       "\n",
       "    woodbridge    woodruff   worcester   İstanbul   Αthens   Αθήνα   ΕΛΛΗΝΙΚΟ  \\\n",
       "0             0          0           0          0        0       0          0   \n",
       "1             0          0           0          0        0       0          0   \n",
       "2             0          0           0          0        0       0          0   \n",
       "3             0          0           0          0        0       0          0   \n",
       "4             0          0           0          0        0       0          0   \n",
       "\n",
       "    마포구 동교동  city_name_unknown  \n",
       "0         0                  0  \n",
       "1         0                  0  \n",
       "2         0                  0  \n",
       "3         0                  0  \n",
       "4         0                  0  \n",
       "\n",
       "[5 rows x 13854 columns]"
      ]
     },
     "execution_count": 32,
     "metadata": {},
     "output_type": "execute_result"
    }
   ],
   "source": [
    "encoded_data.head()"
   ]
  },
  {
   "cell_type": "code",
   "execution_count": 33,
   "metadata": {},
   "outputs": [
    {
     "data": {
      "text/plain": [
       "(17880, 13854)"
      ]
     },
     "execution_count": 33,
     "metadata": {},
     "output_type": "execute_result"
    }
   ],
   "source": [
    "encoded_data.shape"
   ]
  },
  {
   "cell_type": "code",
   "execution_count": 34,
   "metadata": {},
   "outputs": [],
   "source": [
    "tfidf_vectorizer = TfidfVectorizer()"
   ]
  },
  {
   "cell_type": "code",
   "execution_count": 36,
   "metadata": {},
   "outputs": [],
   "source": [
    "company_profile_vector = tfidf_vectorizer.fit_transform(data['company_profile'])\n",
    "benefits_vector = tfidf_vectorizer.fit_transform(data['benefits'])\n",
    "description_vector = tfidf_vectorizer.fit_transform(data['description'])\n",
    "requirements_vector = tfidf_vectorizer.fit_transform(data['requirements'])"
   ]
  },
  {
   "cell_type": "code",
   "execution_count": 37,
   "metadata": {},
   "outputs": [
    {
     "data": {
      "text/plain": [
       "(17880, 8)"
      ]
     },
     "execution_count": 37,
     "metadata": {},
     "output_type": "execute_result"
    }
   ],
   "source": [
    "data.shape"
   ]
  },
  {
   "cell_type": "code",
   "execution_count": 38,
   "metadata": {},
   "outputs": [
    {
     "data": {
      "text/plain": [
       "<17880x14824 sparse matrix of type '<class 'numpy.float64'>'\n",
       "\twith 1141404 stored elements in Compressed Sparse Row format>"
      ]
     },
     "execution_count": 38,
     "metadata": {},
     "output_type": "execute_result"
    }
   ],
   "source": [
    "company_profile_vector"
   ]
  },
  {
   "cell_type": "code",
   "execution_count": 39,
   "metadata": {},
   "outputs": [
    {
     "data": {
      "text/plain": [
       "<17880x16437 sparse matrix of type '<class 'numpy.float64'>'\n",
       "\twith 423230 stored elements in Compressed Sparse Row format>"
      ]
     },
     "execution_count": 39,
     "metadata": {},
     "output_type": "execute_result"
    }
   ],
   "source": [
    "benefits_vector"
   ]
  },
  {
   "cell_type": "code",
   "execution_count": 44,
   "metadata": {},
   "outputs": [],
   "source": [
    "vector_combined = hstack([company_profile_vector,benefits_vector, description_vector, requirements_vector, encoded_data])"
   ]
  },
  {
   "cell_type": "code",
   "execution_count": 45,
   "metadata": {},
   "outputs": [
    {
     "data": {
      "text/plain": [
       "<17880x153928 sparse matrix of type '<class 'numpy.float64'>'\n",
       "\twith 4684161 stored elements in COOrdinate format>"
      ]
     },
     "execution_count": 45,
     "metadata": {},
     "output_type": "execute_result"
    }
   ],
   "source": [
    "vector_combined"
   ]
  },
  {
   "cell_type": "code",
   "execution_count": 54,
   "metadata": {},
   "outputs": [],
   "source": [
    "X_train, X_test, y_train, y_test = train_test_split(vector_combined, data['fraudulent'], test_size=0.30, random_state=42)"
   ]
  },
  {
   "cell_type": "code",
   "execution_count": 68,
   "metadata": {},
   "outputs": [
    {
     "data": {
      "text/plain": [
       "(12516, 153928)"
      ]
     },
     "execution_count": 68,
     "metadata": {},
     "output_type": "execute_result"
    }
   ],
   "source": [
    "X_train.shape"
   ]
  },
  {
   "cell_type": "code",
   "execution_count": 69,
   "metadata": {},
   "outputs": [
    {
     "data": {
      "text/plain": [
       "(5364, 153928)"
      ]
     },
     "execution_count": 69,
     "metadata": {},
     "output_type": "execute_result"
    }
   ],
   "source": [
    "X_test.shape"
   ]
  },
  {
   "cell_type": "code",
   "execution_count": 58,
   "metadata": {},
   "outputs": [
    {
     "data": {
      "text/plain": [
       "LogisticRegression(C=1.0, class_weight=None, dual=False, fit_intercept=True,\n",
       "                   intercept_scaling=1, l1_ratio=None, max_iter=100,\n",
       "                   multi_class='warn', n_jobs=None, penalty='l2',\n",
       "                   random_state=None, solver='warn', tol=0.0001, verbose=0,\n",
       "                   warm_start=False)"
      ]
     },
     "execution_count": 58,
     "metadata": {},
     "output_type": "execute_result"
    }
   ],
   "source": [
    "lr_model = LogisticRegression()\n",
    "lr_model.fit(X_train, y_train)"
   ]
  },
  {
   "cell_type": "code",
   "execution_count": 59,
   "metadata": {},
   "outputs": [],
   "source": [
    "y_pred = lr_model.predict(X_test)"
   ]
  },
  {
   "cell_type": "code",
   "execution_count": 63,
   "metadata": {},
   "outputs": [
    {
     "data": {
      "text/plain": [
       "0.9800521998508576"
      ]
     },
     "execution_count": 63,
     "metadata": {},
     "output_type": "execute_result"
    }
   ],
   "source": [
    "accuracy_score(y_test, y_pred)"
   ]
  },
  {
   "cell_type": "markdown",
   "metadata": {},
   "source": [
    "### We are getting 98% accuracy using a basic logistic regression model. But accuracy is not a good metric here, as we need high accuracy in only classifying the fake job openings. This means that a real job posting identified as a fake one is ok, but a fake job posting should not be identified as a real one."
   ]
  },
  {
   "cell_type": "code",
   "execution_count": 70,
   "metadata": {},
   "outputs": [
    {
     "data": {
      "text/plain": [
       "0    5095\n",
       "1     269\n",
       "Name: fraudulent, dtype: int64"
      ]
     },
     "execution_count": 70,
     "metadata": {},
     "output_type": "execute_result"
    }
   ],
   "source": [
    "y_test.value_counts()"
   ]
  },
  {
   "cell_type": "markdown",
   "metadata": {},
   "source": [
    "### Scikit learn sorts labels in ascending order, thus 0's are first column/row and 1's are the second one"
   ]
  },
  {
   "cell_type": "code",
   "execution_count": 67,
   "metadata": {},
   "outputs": [
    {
     "data": {
      "text/plain": [
       "array([[5090,    5],\n",
       "       [ 102,  167]], dtype=int64)"
      ]
     },
     "execution_count": 67,
     "metadata": {},
     "output_type": "execute_result"
    }
   ],
   "source": [
    "confusion_matrix(y_test, y_pred, labels=[0,1])"
   ]
  },
  {
   "cell_type": "markdown",
   "metadata": {},
   "source": [
    "### In our test data, there are 5095 real job postings and 269 fake job postings. This can be seen in our confusion matrix where the first row consists of real job openings and the second row the fake ones\n",
    "\n",
    "### Out of 5095 real job postings, 5090 were correctly predicted and 5 were predicted as fake (good)\n",
    "\n",
    "### Out of 269 fake job postings,  only 167 were correctly predicted (bad)"
   ]
  },
  {
   "cell_type": "code",
   "execution_count": null,
   "metadata": {},
   "outputs": [],
   "source": []
  }
 ],
 "metadata": {
  "kernelspec": {
   "display_name": "Python 3",
   "language": "python",
   "name": "python3"
  },
  "language_info": {
   "codemirror_mode": {
    "name": "ipython",
    "version": 3
   },
   "file_extension": ".py",
   "mimetype": "text/x-python",
   "name": "python",
   "nbconvert_exporter": "python",
   "pygments_lexer": "ipython3",
   "version": "3.7.3"
  }
 },
 "nbformat": 4,
 "nbformat_minor": 2
}
